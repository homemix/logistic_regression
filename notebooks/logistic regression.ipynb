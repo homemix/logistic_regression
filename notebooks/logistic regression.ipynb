{
 "cells": [
  {
   "metadata": {},
   "cell_type": "markdown",
   "source": [
    "# Getting started with Logistic Regression in Python\n",
    "\n",
    "Predicting binary outcome.\n",
    "\n",
    " "
   ],
   "id": "dacdbe0ee6993400"
  },
  {
   "metadata": {},
   "cell_type": "markdown",
   "source": [
    "## Introduction\n",
    " - Logistic regression involves solving a classification problem. A classification problem is a predictive modeling problem where the class label is anticipated for a specific example of input data.\n",
    "  - It's importance is when we are predicting binary outcome variables like patients with diabetes or not, spam email or not, structures will fail or stay standing among others based on their scores on a set of potential predictor variables.\n",
    " "
   ],
   "id": "f9136a8488965aa0"
  },
  {
   "metadata": {},
   "cell_type": "markdown",
   "source": [
    "## 1. Understanding Logistic regression\n",
    "- Binary logistic regression models the relationship between a set of independent variables and a binary dependent variable. It is useful when the dependent variable is dichotomous in nature, like death or survival, absence or presence and so on.\n",
    "-  It uses the logistic (sigmoid) activation function, which maps the linear combination of predictor variables to a probability value between 0 and 1."
   ],
   "id": "ded8df2cf9f8a846"
  }
 ],
 "metadata": {
  "kernelspec": {
   "display_name": "Python 3",
   "language": "python",
   "name": "python3"
  },
  "language_info": {
   "codemirror_mode": {
    "name": "ipython",
    "version": 2
   },
   "file_extension": ".py",
   "mimetype": "text/x-python",
   "name": "python",
   "nbconvert_exporter": "python",
   "pygments_lexer": "ipython2",
   "version": "2.7.6"
  }
 },
 "nbformat": 4,
 "nbformat_minor": 5
}
