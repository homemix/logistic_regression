{
 "cells": [
  {
   "cell_type": "markdown",
   "id": "ecc31c68d6b8785f",
   "metadata": {},
   "source": [
    "## Naive Bayes Classification"
   ]
  },
  {
   "cell_type": "code",
   "execution_count": 1,
   "id": "4f1e2ae00056f71f",
   "metadata": {
    "ExecuteTime": {
     "end_time": "2024-05-10T13:43:39.050904Z",
     "start_time": "2024-05-10T13:43:38.392750Z"
    }
   },
   "outputs": [],
   "source": [
    "# Imports\n",
    "from sklearn.datasets import make_classification\n",
    "import matplotlib.pyplot as plt\n",
    "from sklearn.naive_bayes import GaussianNB\n",
    "from sklearn.metrics import accuracy_score, confusion_matrix,ConfusionMatrixDisplay,f1_score,log_loss\n",
    "from sklearn.model_selection import train_test_split\n",
    "import pandas as pd"
   ]
  },
  {
   "cell_type": "markdown",
   "id": "a06a761fbf81afff",
   "metadata": {},
   "source": [
    "## Explanation:\n",
    "- The Naive Bayes algorithm is a probabilistic classification algorithm based on Bayes' theorem with the \"naive\" assumption of feature independence. It is commonly used for text classification tasks, such as spam detection, sentiment analysis, and document categorization.\n",
    " - How it works:\n",
    "\n",
    "#### 1. Bayes' Theorem:\n",
    "- Bayes' theorem describes the probability of a hypothesis given the evidence: P(H|E) = (P(E|H) * P(H)) / P(E), where:\n",
    "- - P(H|E) is the probability of hypothesis H given the evidence E.\n",
    "- - P(E|H) is the probability of evidence E given the hypothesis H.\n",
    "- - P(H) is the prior probability of hypothesis H.\n",
    "- - P(E) is the prior probability of evidence E.\n",
    "\n",
    "#### 2. Naive Assumption of Independence:\n",
    "- The Naive Bayes algorithm assumes that the features used to describe instances are conditionally independent given the class label. In other words, the presence of a particular feature in a class is independent of the presence of any other feature.\n",
    "\n",
    "#### 3. Training Phase:\n",
    "- In the training phase, the algorithm calculates the prior probabilities of each class and the conditional probabilities of each feature given each class using the training dataset.\n",
    "- The prior probability of each class is simply the proportion of instances belonging to that class in the training dataset.\n",
    "- The conditional probability of each feature given each class is calculated based on the frequency of each feature occurring in instances of that class.\n",
    "\n",
    "#### 4. Prediction Phase:\n",
    "- In the prediction phase, given a new instance with a set of features, the algorithm calculates the posterior probability of each class given the features using Bayes' theorem.\n",
    "- The class with the highest posterior probability is assigned as the predicted class for the new instance.\n",
    "- Since the Naive Bayes algorithm assumes feature independence, it calculates the likelihood of each feature independently given the class and multiplies them together to obtain the joint likelihood.\n",
    "\n",
    "#### 5. Types of Naive Bayes Classifiers:\n",
    "- There are different variants of the Naive Bayes algorithm, including:\n",
    "    - Gaussian Naive Bayes: Assumes that continuous features follow a Gaussian distribution.\n",
    "    - Multinomial Naive Bayes: Suitable for features with discrete counts, such as word counts in text classification.\n",
    "    - Bernoulli Naive Bayes: Suitable for binary features, where features are assumed to be present or absent.\n",
    "#### 6. Evaluation:\n",
    "- The performance of the Naive Bayes algorithm can be evaluated using various metrics such as accuracy, precision, recall, F1 score, or area under the ROC curve (AUC), depending on the task.\n",
    "\n",
    "Source: ChatGpt prompt.\n",
    "\n"
   ]
  },
  {
   "cell_type": "markdown",
   "id": "759ea459e270afcf",
   "metadata": {},
   "source": [
    "### Generating data"
   ]
  },
  {
   "cell_type": "code",
   "execution_count": null,
   "id": "7a5b06402267d647",
   "metadata": {
    "ExecuteTime": {
     "end_time": "2024-04-29T16:50:31.609054Z",
     "start_time": "2024-04-29T16:50:31.600925Z"
    }
   },
   "outputs": [],
   "source": [
    "X,y = make_classification(n_samples=800,n_features=6,random_state=1,n_classes=3,n_informative=2,n_clusters_per_class=1)\n"
   ]
  },
  {
   "cell_type": "code",
   "execution_count": null,
   "id": "7ea1d7b194614232",
   "metadata": {
    "ExecuteTime": {
     "end_time": "2024-04-29T16:50:31.794372Z",
     "start_time": "2024-04-29T16:50:31.610906Z"
    }
   },
   "outputs": [],
   "source": [
    "# Visualize the dataset\n",
    "plt.scatter(X[:,0],X[:,1],c=y,marker='*')\n",
    "plt.show()"
   ]
  },
  {
   "cell_type": "markdown",
   "id": "da4eafce58051cf6",
   "metadata": {},
   "source": [
    "### Train Test Split"
   ]
  },
  {
   "cell_type": "code",
   "execution_count": null,
   "id": "71f2076c0f26c580",
   "metadata": {
    "ExecuteTime": {
     "end_time": "2024-04-29T16:50:31.800919Z",
     "start_time": "2024-04-29T16:50:31.795403Z"
    }
   },
   "outputs": [],
   "source": [
    "X_train, X_test, y_train, y_test = train_test_split(X, y, test_size=0.33, random_state=125)"
   ]
  },
  {
   "cell_type": "markdown",
   "id": "512b21eb5f725b75",
   "metadata": {},
   "source": [
    "### Model Building and Training"
   ]
  },
  {
   "cell_type": "code",
   "execution_count": null,
   "id": "a3f1e363e9e8b919",
   "metadata": {
    "ExecuteTime": {
     "end_time": "2024-04-29T16:50:31.845053Z",
     "start_time": "2024-04-29T16:50:31.804043Z"
    }
   },
   "outputs": [],
   "source": [
    "gaussian_model = GaussianNB()\n",
    "gaussian_model.fit(X_train, y_train)\n",
    "y_pred = gaussian_model.predict(X_test)\n"
   ]
  },
  {
   "cell_type": "markdown",
   "id": "9edfeda2559f8ea0",
   "metadata": {},
   "source": [
    "### Model evaluation"
   ]
  },
  {
   "cell_type": "code",
   "execution_count": null,
   "id": "94fe2d0d2da30b40",
   "metadata": {
    "ExecuteTime": {
     "end_time": "2024-04-29T16:50:31.865854Z",
     "start_time": "2024-04-29T16:50:31.846083Z"
    }
   },
   "outputs": [],
   "source": [
    "accuracy = accuracy_score(y_test,y_pred)\n",
    "f1 = f1_score(y_test,y_pred,average='weighted')\n",
    "\n",
    "print(f'Accuracy: {accuracy}')\n",
    "print(f'f1 score: {f1}')\n"
   ]
  },
  {
   "cell_type": "code",
   "execution_count": null,
   "id": "7cfd2eda858e17aa",
   "metadata": {
    "ExecuteTime": {
     "end_time": "2024-04-29T16:50:32.069201Z",
     "start_time": "2024-04-29T16:50:31.866870Z"
    }
   },
   "outputs": [],
   "source": [
    "## Visualize confusion matrix\n",
    "labels=[0,1,2]\n",
    "cm = confusion_matrix(y_test,y_pred,labels=labels)\n",
    "disp=ConfusionMatrixDisplay(confusion_matrix=cm,display_labels=labels)\n",
    "disp.plot()"
   ]
  },
  {
   "cell_type": "markdown",
   "id": "71574d7e3a25b5d8",
   "metadata": {},
   "source": [
    "## Naive Bayes Classifier with Loan Dataset"
   ]
  },
  {
   "cell_type": "markdown",
   "id": "55f14caed4702d36",
   "metadata": {},
   "source": [
    "### Load data and check properties"
   ]
  },
  {
   "cell_type": "code",
   "execution_count": null,
   "id": "c63c4d919588572b",
   "metadata": {
    "ExecuteTime": {
     "end_time": "2024-04-29T16:50:32.101854Z",
     "start_time": "2024-04-29T16:50:32.070719Z"
    }
   },
   "outputs": [],
   "source": [
    "loan_df= pd.read_csv('../data/loan_data.csv')\n",
    "loan_df.head()"
   ]
  },
  {
   "cell_type": "code",
   "execution_count": null,
   "id": "76e30405b8f88136",
   "metadata": {
    "ExecuteTime": {
     "end_time": "2024-04-29T16:50:32.117323Z",
     "start_time": "2024-04-29T16:50:32.102979Z"
    }
   },
   "outputs": [],
   "source": [
    "loan_df.shape"
   ]
  },
  {
   "cell_type": "markdown",
   "id": "9c5f0a8c674b6f0e",
   "metadata": {},
   "source": [
    "### Data preprocessing"
   ]
  },
  {
   "cell_type": "code",
   "execution_count": null,
   "id": "1294d92118a24613",
   "metadata": {
    "ExecuteTime": {
     "end_time": "2024-04-29T16:50:32.154704Z",
     "start_time": "2024-04-29T16:50:32.118345Z"
    }
   },
   "outputs": [],
   "source": [
    "loan_df= pd.get_dummies(loan_df,drop_first=True)\n",
    "loan_df.head()"
   ]
  },
  {
   "cell_type": "code",
   "execution_count": null,
   "id": "35c019acefce7d4c",
   "metadata": {
    "ExecuteTime": {
     "end_time": "2024-04-29T16:50:32.160749Z",
     "start_time": "2024-04-29T16:50:32.155718Z"
    }
   },
   "outputs": [],
   "source": [
    "loan_df.shape"
   ]
  },
  {
   "cell_type": "markdown",
   "id": "2ebe1e8610fec4df",
   "metadata": {},
   "source": [
    "### Prepare features and label"
   ]
  },
  {
   "cell_type": "code",
   "execution_count": null,
   "id": "b9058fde190ff7bf",
   "metadata": {
    "ExecuteTime": {
     "end_time": "2024-04-29T16:50:32.179024Z",
     "start_time": "2024-04-29T16:50:32.161276Z"
    }
   },
   "outputs": [],
   "source": [
    "\n",
    "X = loan_df.drop('not.fully.paid',axis=1)\n",
    "y = loan_df['not.fully.paid']\n",
    "\n"
   ]
  },
  {
   "cell_type": "markdown",
   "id": "12fba8266b04fa98",
   "metadata": {},
   "source": [
    "### Train test split"
   ]
  },
  {
   "cell_type": "code",
   "execution_count": null,
   "id": "78ff6f2bba22099c",
   "metadata": {
    "ExecuteTime": {
     "end_time": "2024-04-29T16:50:32.211553Z",
     "start_time": "2024-04-29T16:50:32.180029Z"
    }
   },
   "outputs": [],
   "source": [
    "X_train, X_test, y_train, y_test = train_test_split(X, y, test_size=0.33, random_state=125)\n",
    "gaussian_model = GaussianNB()\n",
    "gaussian_model.fit(X_train, y_train)\n",
    "y_pred = gaussian_model.predict(X_test)"
   ]
  },
  {
   "cell_type": "markdown",
   "id": "6da1df59278f752",
   "metadata": {},
   "source": [
    "### Model testing"
   ]
  },
  {
   "cell_type": "code",
   "execution_count": null,
   "id": "6166c09870ff24fa",
   "metadata": {
    "ExecuteTime": {
     "end_time": "2024-04-29T16:50:32.222516Z",
     "start_time": "2024-04-29T16:50:32.213570Z"
    }
   },
   "outputs": [],
   "source": [
    "accuracy = accuracy_score(y_test,y_pred)\n",
    "f1 = f1_score(y_test,y_pred,average='weighted')\n",
    "print(f'Accuracy: {accuracy}')\n",
    "print(f'f1 score: {f1}')"
   ]
  },
  {
   "cell_type": "code",
   "execution_count": null,
   "id": "6cbd7926ea37bc98",
   "metadata": {
    "ExecuteTime": {
     "end_time": "2024-04-29T16:50:32.445453Z",
     "start_time": "2024-04-29T16:50:32.223876Z"
    }
   },
   "outputs": [],
   "source": [
    "labels=['Fully Paid','Not Paid']\n",
    "cm = confusion_matrix(y_test,y_pred)\n",
    "disp=ConfusionMatrixDisplay(confusion_matrix=cm,display_labels=labels)\n",
    "disp.plot()\n",
    "\n",
    "#disp = ConfusionMatrixDisplay(confusion_matrix=cm)"
   ]
  }
 ],
 "metadata": {
  "kernelspec": {
   "display_name": "Python 3 (ipykernel)",
   "language": "python",
   "name": "python3"
  },
  "language_info": {
   "codemirror_mode": {
    "name": "ipython",
    "version": 3
   },
   "file_extension": ".py",
   "mimetype": "text/x-python",
   "name": "python",
   "nbconvert_exporter": "python",
   "pygments_lexer": "ipython3",
   "version": "3.12.0"
  }
 },
 "nbformat": 4,
 "nbformat_minor": 5
}
