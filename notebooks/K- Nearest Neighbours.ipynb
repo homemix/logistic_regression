{
 "cells": [
  {
   "metadata": {},
   "cell_type": "markdown",
   "source": "## K Nearest Neighbours",
   "id": "dc92a91fcf3af451"
  },
  {
   "cell_type": "code",
   "id": "initial_id",
   "metadata": {
    "collapsed": true,
    "ExecuteTime": {
     "end_time": "2024-04-30T15:04:01.304712Z",
     "start_time": "2024-04-30T15:04:01.300115Z"
    }
   },
   "source": [
    "# Imports\n",
    "\n",
    "import pandas as pd\n",
    "import matplotlib.pyplot as plt\n",
    "import seaborn as sns\n",
    "from imblearn.over_sampling import SMOTE\n",
    "from sklearn.model_selection import train_test_split\n",
    "from sklearn.metrics import classification_report,f1_score\n",
    "from sklearn.utils import resample\n",
    "from sklearn.neighbors import KNeighborsClassifier\n",
    "from sklearn.model_selection import GridSearchCV"
   ],
   "outputs": [],
   "execution_count": 24
  },
  {
   "metadata": {},
   "cell_type": "markdown",
   "source": "### Data Preparation",
   "id": "c8107fbdc92e3d61"
  },
  {
   "metadata": {
    "ExecuteTime": {
     "end_time": "2024-04-30T14:56:49.392984Z",
     "start_time": "2024-04-30T14:56:38.929044Z"
    }
   },
   "cell_type": "code",
   "source": [
    "# Load data\n",
    "df = pd.read_csv('../data/Synthetic_Financial_datasets_log.csv')\n",
    "df.head()"
   ],
   "id": "e57be21cd0468a6b",
   "outputs": [
    {
     "data": {
      "text/plain": [
       "   step      type    amount     nameOrig  oldbalanceOrg  newbalanceOrig  \\\n",
       "0     1   PAYMENT   9839.64  C1231006815       170136.0       160296.36   \n",
       "1     1   PAYMENT   1864.28  C1666544295        21249.0        19384.72   \n",
       "2     1  TRANSFER    181.00  C1305486145          181.0            0.00   \n",
       "3     1  CASH_OUT    181.00   C840083671          181.0            0.00   \n",
       "4     1   PAYMENT  11668.14  C2048537720        41554.0        29885.86   \n",
       "\n",
       "      nameDest  oldbalanceDest  newbalanceDest  isFraud  isFlaggedFraud  \n",
       "0  M1979787155             0.0             0.0        0               0  \n",
       "1  M2044282225             0.0             0.0        0               0  \n",
       "2   C553264065             0.0             0.0        1               0  \n",
       "3    C38997010         21182.0             0.0        1               0  \n",
       "4  M1230701703             0.0             0.0        0               0  "
      ],
      "text/html": [
       "<div>\n",
       "<style scoped>\n",
       "    .dataframe tbody tr th:only-of-type {\n",
       "        vertical-align: middle;\n",
       "    }\n",
       "\n",
       "    .dataframe tbody tr th {\n",
       "        vertical-align: top;\n",
       "    }\n",
       "\n",
       "    .dataframe thead th {\n",
       "        text-align: right;\n",
       "    }\n",
       "</style>\n",
       "<table border=\"1\" class=\"dataframe\">\n",
       "  <thead>\n",
       "    <tr style=\"text-align: right;\">\n",
       "      <th></th>\n",
       "      <th>step</th>\n",
       "      <th>type</th>\n",
       "      <th>amount</th>\n",
       "      <th>nameOrig</th>\n",
       "      <th>oldbalanceOrg</th>\n",
       "      <th>newbalanceOrig</th>\n",
       "      <th>nameDest</th>\n",
       "      <th>oldbalanceDest</th>\n",
       "      <th>newbalanceDest</th>\n",
       "      <th>isFraud</th>\n",
       "      <th>isFlaggedFraud</th>\n",
       "    </tr>\n",
       "  </thead>\n",
       "  <tbody>\n",
       "    <tr>\n",
       "      <th>0</th>\n",
       "      <td>1</td>\n",
       "      <td>PAYMENT</td>\n",
       "      <td>9839.64</td>\n",
       "      <td>C1231006815</td>\n",
       "      <td>170136.0</td>\n",
       "      <td>160296.36</td>\n",
       "      <td>M1979787155</td>\n",
       "      <td>0.0</td>\n",
       "      <td>0.0</td>\n",
       "      <td>0</td>\n",
       "      <td>0</td>\n",
       "    </tr>\n",
       "    <tr>\n",
       "      <th>1</th>\n",
       "      <td>1</td>\n",
       "      <td>PAYMENT</td>\n",
       "      <td>1864.28</td>\n",
       "      <td>C1666544295</td>\n",
       "      <td>21249.0</td>\n",
       "      <td>19384.72</td>\n",
       "      <td>M2044282225</td>\n",
       "      <td>0.0</td>\n",
       "      <td>0.0</td>\n",
       "      <td>0</td>\n",
       "      <td>0</td>\n",
       "    </tr>\n",
       "    <tr>\n",
       "      <th>2</th>\n",
       "      <td>1</td>\n",
       "      <td>TRANSFER</td>\n",
       "      <td>181.00</td>\n",
       "      <td>C1305486145</td>\n",
       "      <td>181.0</td>\n",
       "      <td>0.00</td>\n",
       "      <td>C553264065</td>\n",
       "      <td>0.0</td>\n",
       "      <td>0.0</td>\n",
       "      <td>1</td>\n",
       "      <td>0</td>\n",
       "    </tr>\n",
       "    <tr>\n",
       "      <th>3</th>\n",
       "      <td>1</td>\n",
       "      <td>CASH_OUT</td>\n",
       "      <td>181.00</td>\n",
       "      <td>C840083671</td>\n",
       "      <td>181.0</td>\n",
       "      <td>0.00</td>\n",
       "      <td>C38997010</td>\n",
       "      <td>21182.0</td>\n",
       "      <td>0.0</td>\n",
       "      <td>1</td>\n",
       "      <td>0</td>\n",
       "    </tr>\n",
       "    <tr>\n",
       "      <th>4</th>\n",
       "      <td>1</td>\n",
       "      <td>PAYMENT</td>\n",
       "      <td>11668.14</td>\n",
       "      <td>C2048537720</td>\n",
       "      <td>41554.0</td>\n",
       "      <td>29885.86</td>\n",
       "      <td>M1230701703</td>\n",
       "      <td>0.0</td>\n",
       "      <td>0.0</td>\n",
       "      <td>0</td>\n",
       "      <td>0</td>\n",
       "    </tr>\n",
       "  </tbody>\n",
       "</table>\n",
       "</div>"
      ]
     },
     "execution_count": 2,
     "metadata": {},
     "output_type": "execute_result"
    }
   ],
   "execution_count": 2
  },
  {
   "metadata": {
    "ExecuteTime": {
     "end_time": "2024-04-30T14:56:49.411047Z",
     "start_time": "2024-04-30T14:56:49.393998Z"
    }
   },
   "cell_type": "code",
   "source": "df.info()",
   "id": "307aa671496b556d",
   "outputs": [
    {
     "name": "stdout",
     "output_type": "stream",
     "text": [
      "<class 'pandas.core.frame.DataFrame'>\n",
      "RangeIndex: 6362620 entries, 0 to 6362619\n",
      "Data columns (total 11 columns):\n",
      " #   Column          Dtype  \n",
      "---  ------          -----  \n",
      " 0   step            int64  \n",
      " 1   type            object \n",
      " 2   amount          float64\n",
      " 3   nameOrig        object \n",
      " 4   oldbalanceOrg   float64\n",
      " 5   newbalanceOrig  float64\n",
      " 6   nameDest        object \n",
      " 7   oldbalanceDest  float64\n",
      " 8   newbalanceDest  float64\n",
      " 9   isFraud         int64  \n",
      " 10  isFlaggedFraud  int64  \n",
      "dtypes: float64(5), int64(3), object(3)\n",
      "memory usage: 534.0+ MB\n"
     ]
    }
   ],
   "execution_count": 3
  },
  {
   "metadata": {
    "ExecuteTime": {
     "end_time": "2024-04-30T14:56:49.421708Z",
     "start_time": "2024-04-30T14:56:49.413062Z"
    }
   },
   "cell_type": "code",
   "source": "df.shape",
   "id": "b311f2b36f20f7c6",
   "outputs": [
    {
     "data": {
      "text/plain": [
       "(6362620, 11)"
      ]
     },
     "execution_count": 4,
     "metadata": {},
     "output_type": "execute_result"
    }
   ],
   "execution_count": 4
  },
  {
   "metadata": {
    "ExecuteTime": {
     "end_time": "2024-04-30T14:56:50.248257Z",
     "start_time": "2024-04-30T14:56:49.422723Z"
    }
   },
   "cell_type": "code",
   "source": "df.isnull().sum()",
   "id": "1ad27906bc893d0f",
   "outputs": [
    {
     "data": {
      "text/plain": [
       "step              0\n",
       "type              0\n",
       "amount            0\n",
       "nameOrig          0\n",
       "oldbalanceOrg     0\n",
       "newbalanceOrig    0\n",
       "nameDest          0\n",
       "oldbalanceDest    0\n",
       "newbalanceDest    0\n",
       "isFraud           0\n",
       "isFlaggedFraud    0\n",
       "dtype: int64"
      ]
     },
     "execution_count": 5,
     "metadata": {},
     "output_type": "execute_result"
    }
   ],
   "execution_count": 5
  },
  {
   "metadata": {},
   "cell_type": "markdown",
   "source": "### Feature Engineerings",
   "id": "6a878c36b0323a23"
  },
  {
   "metadata": {
    "ExecuteTime": {
     "end_time": "2024-04-30T14:56:50.448767Z",
     "start_time": "2024-04-30T14:56:50.249290Z"
    }
   },
   "cell_type": "code",
   "source": [
    "# Will keep column type for this analysis.\n",
    "df.drop(columns=['nameOrig','nameDest'],axis=1,inplace=True)"
   ],
   "id": "20d7b19dfd6e8dd4",
   "outputs": [],
   "execution_count": 6
  },
  {
   "metadata": {
    "ExecuteTime": {
     "end_time": "2024-04-30T14:56:51.202704Z",
     "start_time": "2024-04-30T14:56:50.449810Z"
    }
   },
   "cell_type": "code",
   "source": [
    "df = pd.get_dummies(df,drop_first=True)\n",
    "df.head()"
   ],
   "id": "55b8bb63b32502ff",
   "outputs": [
    {
     "data": {
      "text/plain": [
       "   step    amount  oldbalanceOrg  newbalanceOrig  oldbalanceDest  \\\n",
       "0     1   9839.64       170136.0       160296.36             0.0   \n",
       "1     1   1864.28        21249.0        19384.72             0.0   \n",
       "2     1    181.00          181.0            0.00             0.0   \n",
       "3     1    181.00          181.0            0.00         21182.0   \n",
       "4     1  11668.14        41554.0        29885.86             0.0   \n",
       "\n",
       "   newbalanceDest  isFraud  isFlaggedFraud  type_CASH_OUT  type_DEBIT  \\\n",
       "0             0.0        0               0          False       False   \n",
       "1             0.0        0               0          False       False   \n",
       "2             0.0        1               0          False       False   \n",
       "3             0.0        1               0           True       False   \n",
       "4             0.0        0               0          False       False   \n",
       "\n",
       "   type_PAYMENT  type_TRANSFER  \n",
       "0          True          False  \n",
       "1          True          False  \n",
       "2         False           True  \n",
       "3         False          False  \n",
       "4          True          False  "
      ],
      "text/html": [
       "<div>\n",
       "<style scoped>\n",
       "    .dataframe tbody tr th:only-of-type {\n",
       "        vertical-align: middle;\n",
       "    }\n",
       "\n",
       "    .dataframe tbody tr th {\n",
       "        vertical-align: top;\n",
       "    }\n",
       "\n",
       "    .dataframe thead th {\n",
       "        text-align: right;\n",
       "    }\n",
       "</style>\n",
       "<table border=\"1\" class=\"dataframe\">\n",
       "  <thead>\n",
       "    <tr style=\"text-align: right;\">\n",
       "      <th></th>\n",
       "      <th>step</th>\n",
       "      <th>amount</th>\n",
       "      <th>oldbalanceOrg</th>\n",
       "      <th>newbalanceOrig</th>\n",
       "      <th>oldbalanceDest</th>\n",
       "      <th>newbalanceDest</th>\n",
       "      <th>isFraud</th>\n",
       "      <th>isFlaggedFraud</th>\n",
       "      <th>type_CASH_OUT</th>\n",
       "      <th>type_DEBIT</th>\n",
       "      <th>type_PAYMENT</th>\n",
       "      <th>type_TRANSFER</th>\n",
       "    </tr>\n",
       "  </thead>\n",
       "  <tbody>\n",
       "    <tr>\n",
       "      <th>0</th>\n",
       "      <td>1</td>\n",
       "      <td>9839.64</td>\n",
       "      <td>170136.0</td>\n",
       "      <td>160296.36</td>\n",
       "      <td>0.0</td>\n",
       "      <td>0.0</td>\n",
       "      <td>0</td>\n",
       "      <td>0</td>\n",
       "      <td>False</td>\n",
       "      <td>False</td>\n",
       "      <td>True</td>\n",
       "      <td>False</td>\n",
       "    </tr>\n",
       "    <tr>\n",
       "      <th>1</th>\n",
       "      <td>1</td>\n",
       "      <td>1864.28</td>\n",
       "      <td>21249.0</td>\n",
       "      <td>19384.72</td>\n",
       "      <td>0.0</td>\n",
       "      <td>0.0</td>\n",
       "      <td>0</td>\n",
       "      <td>0</td>\n",
       "      <td>False</td>\n",
       "      <td>False</td>\n",
       "      <td>True</td>\n",
       "      <td>False</td>\n",
       "    </tr>\n",
       "    <tr>\n",
       "      <th>2</th>\n",
       "      <td>1</td>\n",
       "      <td>181.00</td>\n",
       "      <td>181.0</td>\n",
       "      <td>0.00</td>\n",
       "      <td>0.0</td>\n",
       "      <td>0.0</td>\n",
       "      <td>1</td>\n",
       "      <td>0</td>\n",
       "      <td>False</td>\n",
       "      <td>False</td>\n",
       "      <td>False</td>\n",
       "      <td>True</td>\n",
       "    </tr>\n",
       "    <tr>\n",
       "      <th>3</th>\n",
       "      <td>1</td>\n",
       "      <td>181.00</td>\n",
       "      <td>181.0</td>\n",
       "      <td>0.00</td>\n",
       "      <td>21182.0</td>\n",
       "      <td>0.0</td>\n",
       "      <td>1</td>\n",
       "      <td>0</td>\n",
       "      <td>True</td>\n",
       "      <td>False</td>\n",
       "      <td>False</td>\n",
       "      <td>False</td>\n",
       "    </tr>\n",
       "    <tr>\n",
       "      <th>4</th>\n",
       "      <td>1</td>\n",
       "      <td>11668.14</td>\n",
       "      <td>41554.0</td>\n",
       "      <td>29885.86</td>\n",
       "      <td>0.0</td>\n",
       "      <td>0.0</td>\n",
       "      <td>0</td>\n",
       "      <td>0</td>\n",
       "      <td>False</td>\n",
       "      <td>False</td>\n",
       "      <td>True</td>\n",
       "      <td>False</td>\n",
       "    </tr>\n",
       "  </tbody>\n",
       "</table>\n",
       "</div>"
      ]
     },
     "execution_count": 7,
     "metadata": {},
     "output_type": "execute_result"
    }
   ],
   "execution_count": 7
  },
  {
   "metadata": {
    "ExecuteTime": {
     "end_time": "2024-04-30T14:56:53.987588Z",
     "start_time": "2024-04-30T14:56:51.204743Z"
    }
   },
   "cell_type": "code",
   "source": [
    "# get correlation\n",
    "df.corr(numeric_only=True)['isFraud'].sort_values(ascending=False)"
   ],
   "id": "a9dee62ed29de4df",
   "outputs": [
    {
     "data": {
      "text/plain": [
       "isFraud           1.000000\n",
       "amount            0.076688\n",
       "type_TRANSFER     0.053869\n",
       "isFlaggedFraud    0.044109\n",
       "step              0.031578\n",
       "type_CASH_OUT     0.011256\n",
       "oldbalanceOrg     0.010154\n",
       "newbalanceDest    0.000535\n",
       "type_DEBIT       -0.002911\n",
       "oldbalanceDest   -0.005885\n",
       "newbalanceOrig   -0.008148\n",
       "type_PAYMENT     -0.025697\n",
       "Name: isFraud, dtype: float64"
      ]
     },
     "execution_count": 8,
     "metadata": {},
     "output_type": "execute_result"
    }
   ],
   "execution_count": 8
  },
  {
   "metadata": {
    "ExecuteTime": {
     "end_time": "2024-04-30T14:56:54.227636Z",
     "start_time": "2024-04-30T14:56:53.988602Z"
    }
   },
   "cell_type": "code",
   "source": [
    "loans_df= df.drop('isFlaggedFraud',axis=1)\n",
    "\n",
    "X = loans_df.drop('isFraud',axis=1)\n",
    "y= loans_df['isFraud']"
   ],
   "id": "ca8d6d0934fcfb45",
   "outputs": [],
   "execution_count": 9
  },
  {
   "metadata": {
    "ExecuteTime": {
     "end_time": "2024-04-30T14:56:54.286696Z",
     "start_time": "2024-04-30T14:56:54.229653Z"
    }
   },
   "cell_type": "code",
   "source": "loans_df['isFraud'].value_counts()",
   "id": "1361bc5bdb39a83a",
   "outputs": [
    {
     "data": {
      "text/plain": [
       "isFraud\n",
       "0    6354407\n",
       "1       8213\n",
       "Name: count, dtype: int64"
      ]
     },
     "execution_count": 10,
     "metadata": {},
     "output_type": "execute_result"
    }
   ],
   "execution_count": 10
  },
  {
   "metadata": {
    "ExecuteTime": {
     "end_time": "2024-04-30T14:57:03.471567Z",
     "start_time": "2024-04-30T14:56:54.288712Z"
    }
   },
   "cell_type": "code",
   "source": [
    "sns.countplot(x='isFraud', data=loans_df)\n",
    "# Customize the plot\n",
    "plt.xlabel('Fraudulent')\n",
    "plt.ylabel('Count')\n",
    "plt.title('Count of Fraudulent vs. Non-Fraudulent Loans')\n",
    "plt.show()"
   ],
   "id": "6cdd28329e8e5f97",
   "outputs": [
    {
     "data": {
      "text/plain": [
       "<Figure size 640x480 with 1 Axes>"
      ],
      "image/png": "[encoded data removed]"
     },
     "metadata": {},
     "output_type": "display_data"
    }
   ],
   "execution_count": 11
  },
  {
   "metadata": {},
   "cell_type": "markdown",
   "source": "Our data is clearly imbalanced, We have to find a way to make it balanced for analysis",
   "id": "a6713020e38a87ef"
  },
  {
   "metadata": {},
   "cell_type": "markdown",
   "source": "### Perform Oversampling technique",
   "id": "b9566a278ac73a62"
  },
  {
   "metadata": {
    "ExecuteTime": {
     "end_time": "2024-04-30T14:57:03.529203Z",
     "start_time": "2024-04-30T14:57:03.473578Z"
    }
   },
   "cell_type": "code",
   "source": [
    "# Before oversampling\n",
    "loans_df['isFraud'].value_counts()"
   ],
   "id": "8077aff853dabb7f",
   "outputs": [
    {
     "data": {
      "text/plain": [
       "isFraud\n",
       "0    6354407\n",
       "1       8213\n",
       "Name: count, dtype: int64"
      ]
     },
     "execution_count": 12,
     "metadata": {},
     "output_type": "execute_result"
    }
   ],
   "execution_count": 12
  },
  {
   "metadata": {
    "ExecuteTime": {
     "end_time": "2024-04-30T14:57:12.625672Z",
     "start_time": "2024-04-30T14:57:03.530219Z"
    }
   },
   "cell_type": "code",
   "source": [
    "smote = SMOTE(random_state=42)\n",
    "\n",
    "X_resampled, y_resampled = smote.fit_resample(X,y)\n",
    "\n",
    "# Join the values\n",
    "oversampled_loans = pd.concat([pd.DataFrame(X_resampled, columns=X.columns), pd.DataFrame(y_resampled, columns=['isFraud'])], axis=1)\n",
    "\n"
   ],
   "id": "641b4b4200e97ab9",
   "outputs": [],
   "execution_count": 13
  },
  {
   "metadata": {
    "ExecuteTime": {
     "end_time": "2024-04-30T14:57:12.768068Z",
     "start_time": "2024-04-30T14:57:12.630690Z"
    }
   },
   "cell_type": "code",
   "source": [
    "# Recheck after oversampling\n",
    "oversampled_loans['isFraud'].value_counts()"
   ],
   "id": "1b54fdd960fb82fa",
   "outputs": [
    {
     "data": {
      "text/plain": [
       "isFraud\n",
       "0    6354407\n",
       "1    6354407\n",
       "Name: count, dtype: int64"
      ]
     },
     "execution_count": 14,
     "metadata": {},
     "output_type": "execute_result"
    }
   ],
   "execution_count": 14
  },
  {
   "metadata": {},
   "cell_type": "markdown",
   "source": "### Perform Train test split",
   "id": "3b4fc693c7bdb5db"
  },
  {
   "metadata": {
    "ExecuteTime": {
     "end_time": "2024-04-30T14:57:16.265587Z",
     "start_time": "2024-04-30T14:57:12.770084Z"
    }
   },
   "cell_type": "code",
   "source": "X_train,X_test,y_train,y_test = train_test_split(X_resampled,y_resampled,test_size=0.2,random_state=42)",
   "id": "6e135ddf98bcb1a7",
   "outputs": [],
   "execution_count": 15
  },
  {
   "metadata": {
    "ExecuteTime": {
     "end_time": "2024-04-30T14:57:16.270773Z",
     "start_time": "2024-04-30T14:57:16.267057Z"
    }
   },
   "cell_type": "code",
   "source": [
    "# Fitting and evaluating the model\n",
    "knn = KNeighborsClassifier(n_neighbors=3)\n",
    "#knn.fit(X_train,y_train)\n",
    "#y_pred = knn.predict(X_test)"
   ],
   "id": "542f3921678b590f",
   "outputs": [],
   "execution_count": 16
  },
  {
   "metadata": {
    "ExecuteTime": {
     "end_time": "2024-04-30T14:57:16.281635Z",
     "start_time": "2024-04-30T14:57:16.272786Z"
    }
   },
   "cell_type": "code",
   "source": [
    "# Evaluate the model\n",
    "#train_accuracy = knn.score(X_train, y_train)\n",
    "#test_accuracy = knn.score(X_test, y_test)\n",
    "\n",
    "#print(\"Training Accuracy:\", train_accuracy)\n",
    "#print(\"Test Accuracy:\", test_accuracy)"
   ],
   "id": "fe6a97f7c4f1539d",
   "outputs": [],
   "execution_count": 17
  },
  {
   "metadata": {},
   "cell_type": "markdown",
   "source": "I will continue with down sampling technique",
   "id": "a1c0f448466198b2"
  },
  {
   "metadata": {
    "ExecuteTime": {
     "end_time": "2024-04-30T14:57:17.292114Z",
     "start_time": "2024-04-30T14:57:16.283651Z"
    }
   },
   "cell_type": "code",
   "source": [
    "majority_class = loans_df[loans_df['isFraud'] == 0]\n",
    "minority_class = loans_df[loans_df['isFraud'] == 1]\n",
    "\n",
    "# Downsample the majority class to match the minority class\n",
    "majority_downsampled = resample(majority_class, replace=False, n_samples=len(minority_class), random_state=42)\n",
    "\n",
    "downsampled_loans= pd.concat([majority_downsampled,minority_class])\n"
   ],
   "id": "145bcea9f09f096f",
   "outputs": [],
   "execution_count": 18
  },
  {
   "metadata": {
    "ExecuteTime": {
     "end_time": "2024-04-30T14:57:17.299148Z",
     "start_time": "2024-04-30T14:57:17.293141Z"
    }
   },
   "cell_type": "code",
   "source": [
    "# check the shape\n",
    "print(f'Downsampled Loans: {downsampled_loans.shape}')\n",
    "print(f'Downsampled Loans Count: {downsampled_loans['isFraud'].value_counts()}')"
   ],
   "id": "10de265ea9bc5a5",
   "outputs": [
    {
     "name": "stdout",
     "output_type": "stream",
     "text": [
      "Downsampled Loans: (16426, 11)\n",
      "Downsampled Loans Count: isFraud\n",
      "0    8213\n",
      "1    8213\n",
      "Name: count, dtype: int64\n"
     ]
    }
   ],
   "execution_count": 19
  },
  {
   "metadata": {
    "ExecuteTime": {
     "end_time": "2024-04-30T14:57:17.586377Z",
     "start_time": "2024-04-30T14:57:17.300165Z"
    }
   },
   "cell_type": "code",
   "source": [
    "# Split, train and predict\n",
    "X= downsampled_loans.drop('isFraud',axis=1)\n",
    "y = downsampled_loans['isFraud']\n",
    "\n",
    "X_train, X_test, y_train, y_test = train_test_split(X,y,test_size=0.2,random_state=42)\n",
    "\n",
    "knn = KNeighborsClassifier(n_neighbors=3)\n",
    "knn.fit(X_train,y_train)\n",
    "y_pred = knn.predict(X_test)"
   ],
   "id": "40b3141e5b139a54",
   "outputs": [],
   "execution_count": 20
  },
  {
   "metadata": {
    "ExecuteTime": {
     "end_time": "2024-04-30T14:57:18.358613Z",
     "start_time": "2024-04-30T14:57:17.588395Z"
    }
   },
   "cell_type": "code",
   "source": [
    "train_accuracy = knn.score(X_train, y_train)\n",
    "test_accuracy = knn.score(X_test, y_test)\n",
    "print(\"Training Accuracy:\", train_accuracy)\n",
    "print(\"Test Accuracy:\", test_accuracy)"
   ],
   "id": "4e92095b52fd097b",
   "outputs": [
    {
     "name": "stdout",
     "output_type": "stream",
     "text": [
      "Training Accuracy: 0.9773211567732115\n",
      "Test Accuracy: 0.963481436396835\n"
     ]
    }
   ],
   "execution_count": 21
  },
  {
   "metadata": {
    "ExecuteTime": {
     "end_time": "2024-04-30T14:57:18.381450Z",
     "start_time": "2024-04-30T14:57:18.359625Z"
    }
   },
   "cell_type": "code",
   "source": [
    "\n",
    "f1 = f1_score(y_test,y_pred)\n",
    "cls_report = classification_report(y_test,y_pred)\n",
    "print(f'F1 Score: {f1}')\n",
    "\n",
    "print(f'Classification Report: {cls_report}')"
   ],
   "id": "63e27adb823aaec8",
   "outputs": [
    {
     "name": "stdout",
     "output_type": "stream",
     "text": [
      "F1 Score: 0.9635701275045537\n",
      "Classification Report:               precision    recall  f1-score   support\n",
      "\n",
      "           0       0.97      0.96      0.96      1649\n",
      "           1       0.96      0.97      0.96      1637\n",
      "\n",
      "    accuracy                           0.96      3286\n",
      "   macro avg       0.96      0.96      0.96      3286\n",
      "weighted avg       0.96      0.96      0.96      3286\n",
      "\n"
     ]
    }
   ],
   "execution_count": 22
  },
  {
   "metadata": {},
   "cell_type": "markdown",
   "source": "## Hyperparameters Tuning",
   "id": "8ced43c9d43bab9c"
  },
  {
   "metadata": {
    "ExecuteTime": {
     "end_time": "2024-04-30T15:04:35.884556Z",
     "start_time": "2024-04-30T15:04:08.813187Z"
    }
   },
   "cell_type": "code",
   "source": [
    "parameters= {\n",
    "    'n_neighbors':range(1,11),\n",
    "    'weights':['uniform','distance'],\n",
    "    'metric':['minkowski','manhattan','euclidean']\n",
    "}\n",
    "grid = GridSearchCV(estimator=knn,param_grid=parameters,cv=5,scoring='accuracy')\n",
    "grid.fit(X_train,y_train)\n",
    "\n",
    "print(grid.best_params_)\n",
    "print(grid.best_score_)\n",
    "print(grid.best_estimator_)"
   ],
   "id": "59e63643c2b49fcd",
   "outputs": [
    {
     "name": "stdout",
     "output_type": "stream",
     "text": [
      "{'metric': 'minkowski', 'n_neighbors': 4, 'weights': 'distance'}\n",
      "0.9582191780821917\n",
      "KNeighborsClassifier(n_neighbors=4, weights='distance')\n"
     ]
    }
   ],
   "execution_count": 25
  },
  {
   "metadata": {},
   "cell_type": "markdown",
   "source": "dataset Link: https://www.kaggle.com/datasets/sriharshaeedala/financial-fraud-detection-dataset",
   "id": "447b1f914820c998"
  }
 ],
 "metadata": {
  "kernelspec": {
   "display_name": "Python 3",
   "language": "python",
   "name": "python3"
  },
  "language_info": {
   "codemirror_mode": {
    "name": "ipython",
    "version": 2
   },
   "file_extension": ".py",
   "mimetype": "text/x-python",
   "name": "python",
   "nbconvert_exporter": "python",
   "pygments_lexer": "ipython2",
   "version": "2.7.6"
  }
 },
 "nbformat": 4,
 "nbformat_minor": 5
}
