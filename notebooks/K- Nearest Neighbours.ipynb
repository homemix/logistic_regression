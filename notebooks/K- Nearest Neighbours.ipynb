{
 "cells": [
  {
   "cell_type": "markdown",
   "id": "dc92a91fcf3af451",
   "metadata": {},
   "source": [
    "## K Nearest Neighbours"
   ]
  },
  {
   "cell_type": "code",
   "execution_count": 1,
   "id": "initial_id",
   "metadata": {
    "ExecuteTime": {
     "end_time": "2024-05-10T14:06:11.730775Z",
     "start_time": "2024-05-10T14:06:11.723583Z"
    }
   },
   "outputs": [],
   "source": [
    "# Imports\n",
    "\n",
    "import pandas as pd\n",
    "import matplotlib.pyplot as plt\n",
    "import seaborn as sns\n",
    "from imblearn.over_sampling import SMOTE\n",
    "from sklearn.model_selection import train_test_split\n",
    "from sklearn.metrics import classification_report,f1_score\n",
    "from sklearn.utils import resample\n",
    "from sklearn.neighbors import KNeighborsClassifier\n",
    "from sklearn.model_selection import GridSearchCV"
   ]
  },
  {
   "cell_type": "markdown",
   "id": "3f259798435a0134",
   "metadata": {},
   "source": [
    "### Data Science Workflow \n",
    "1. Identify business questions\n",
    " - Data is only as good as the questions you ask. Many organizations spend millions collecting data of all kinds from different sources, but many fail to create value from it. The truth is that no matter how much data your company owns or how many data scientists comprise the department, data only becomes a game-changer once you have identified the right business questions.\n",
    "2. Collect and store data\n",
    "- Now that you have a clear set of questions, it’s time to get your hands dirty. First, you need to collect and store your data in a safe place to analyze it.\n",
    "- Sources: Company, Machine, open source data.\n",
    "- Types: Qualitative or quantitative.\n",
    "3. Clean and prepare data\n",
    "- Once you’ve collected and stored your data, the next step is to assess its quality. It’s important to remember that the success of your data analysis depends greatly on the quality of your data. Your insights will be wrong or misleading if your information is inaccurate, incomplete, or inconsistent. That’s why spending time cleaning and preparing time is mandatory.  EDA processing.\n",
    "4. Analyze data\n",
    "- Now that your data looks clean, you’re ready to analyze data. Finding patterns, connections, insights, and predictions is often the most satisfying part of the data scientist's work. \n",
    "5. Visualize and communicate data\n",
    "- The last step of the data science workflow is visualizing and communicating the results of your data analysis. To turn your insights into decision-making, you must ensure your audience and key stakeholders understand your work.\n",
    "\n",
    "https://www.datacamp.com/blog/how-to-analyze-data-for-business"
   ]
  },
  {
   "cell_type": "markdown",
   "id": "5e2cdf489386f282",
   "metadata": {},
   "source": [
    "### K nearest Neighbours: \n",
    "- The k-nearest neighbors (k-NN) algorithm is a simple, instance-based learning algorithm used for classification and regression tasks in supervised machine learning. It is a non-parametric method that makes predictions based on the majority class or average value of the k-nearest neighbors of a given data point.\n",
    "- How it works:\n",
    "\n",
    "#### 1. Training Phase:\n",
    "- In the training phase, the algorithm simply memorizes the training dataset. There is no explicit training involved as the model doesn't learn any parameters.\n",
    "\n",
    "#### 2. Prediction Phase:\n",
    "- When a prediction is needed for a new data point, the algorithm calculates the distances between the new data point and all the points in the training dataset. The most common distance metric used is the Euclidean distance, but other distance metrics can also be used.\n",
    "- The algorithm then selects the k-nearest neighbors (data points with the smallest distances) to the new data point.\n",
    "\n",
    "#### 3. Classification Task:\n",
    "- For classification tasks, the algorithm assigns the class label that appears most frequently among the k-nearest neighbors to the new data point. This is known as the majority voting scheme.\n",
    "\n",
    "#### 4. Regression Task:\n",
    "- For regression tasks, the algorithm calculates the average value of the target variable among the k-nearest neighbors and assigns it as the predicted value for the new data point. \n",
    "\n",
    "#### 5. Choosing the Value of k:\n",
    "- The value of k, the number of neighbors to consider, is a hyperparameter that needs to be specified before applying the algorithm.\n",
    "- The choice of k can significantly impact the performance of the algorithm. A smaller value of k tends to be more sensitive to noise, while a larger value of k may lead to smoother decision boundaries but could potentially miss local patterns in the data.\n",
    "\n",
    "#### 6. Evaluation:\n",
    "- The performance of the k-NN algorithm can be evaluated using various metrics such as accuracy, precision, recall, F1 score, or mean squared error, depending on whether it is applied to classification or regression tasks.\n",
    "\n",
    "Source: ChatGpt Prompt."
   ]
  },
  {
   "cell_type": "markdown",
   "id": "c8107fbdc92e3d61",
   "metadata": {},
   "source": [
    "### Data Preparation"
   ]
  },
  {
   "cell_type": "markdown",
   "id": "f3ed5ba2131c910",
   "metadata": {},
   "source": [
    "dataset Link: https://www.kaggle.com/datasets/sriharshaeedala/financial-fraud-detection-dataset"
   ]
  },
  {
   "cell_type": "code",
   "execution_count": null,
   "id": "e57be21cd0468a6b",
   "metadata": {
    "ExecuteTime": {
     "end_time": "2024-05-10T14:06:31.596706Z",
     "start_time": "2024-05-10T14:06:15.833700Z"
    }
   },
   "outputs": [],
   "source": [
    "# Load data\n",
    "df = pd.read_csv('../data/Synthetic_Financial_datasets_log.csv')\n",
    "df.head()"
   ]
  },
  {
   "cell_type": "code",
   "execution_count": null,
   "id": "307aa671496b556d",
   "metadata": {
    "ExecuteTime": {
     "end_time": "2024-05-10T14:06:36.066400Z",
     "start_time": "2024-05-10T14:06:36.044046Z"
    }
   },
   "outputs": [],
   "source": [
    "df.info()"
   ]
  },
  {
   "cell_type": "code",
   "execution_count": null,
   "id": "b311f2b36f20f7c6",
   "metadata": {
    "ExecuteTime": {
     "end_time": "2024-05-10T14:06:51.610549Z",
     "start_time": "2024-05-10T14:06:51.598952Z"
    }
   },
   "outputs": [],
   "source": [
    "df.shape"
   ]
  },
  {
   "cell_type": "code",
   "execution_count": null,
   "id": "6a9adf8b4b671a03",
   "metadata": {
    "ExecuteTime": {
     "end_time": "2024-05-10T14:14:34.599697Z",
     "start_time": "2024-05-10T14:14:32.182841Z"
    }
   },
   "outputs": [],
   "source": [
    "df.describe()"
   ]
  },
  {
   "cell_type": "code",
   "execution_count": null,
   "id": "1ad27906bc893d0f",
   "metadata": {
    "ExecuteTime": {
     "end_time": "2024-05-10T14:06:57.608931Z",
     "start_time": "2024-05-10T14:06:56.234091Z"
    }
   },
   "outputs": [],
   "source": [
    "df.isnull().sum()"
   ]
  },
  {
   "cell_type": "code",
   "execution_count": null,
   "id": "d8fbd0065014d4ba",
   "metadata": {
    "ExecuteTime": {
     "end_time": "2024-05-10T14:09:36.853876Z",
     "start_time": "2024-05-10T14:09:36.757046Z"
    }
   },
   "outputs": [],
   "source": [
    "fraud_flagged_not_fraud=df.query(\"isFraud == 1 and isFlaggedFraud ==0\")\n",
    "fraud_flagged_not_fraud"
   ]
  },
  {
   "cell_type": "code",
   "execution_count": null,
   "id": "da5955f126729aa",
   "metadata": {
    "ExecuteTime": {
     "end_time": "2024-05-10T14:09:39.252833Z",
     "start_time": "2024-05-10T14:09:39.247060Z"
    }
   },
   "outputs": [],
   "source": [
    "fraud_flagged_not_fraud.shape[0]"
   ]
  },
  {
   "cell_type": "markdown",
   "id": "6a878c36b0323a23",
   "metadata": {},
   "source": [
    "### Feature Engineerings"
   ]
  },
  {
   "cell_type": "code",
   "execution_count": null,
   "id": "20d7b19dfd6e8dd4",
   "metadata": {
    "ExecuteTime": {
     "end_time": "2024-04-30T14:56:50.448767Z",
     "start_time": "2024-04-30T14:56:50.249290Z"
    }
   },
   "outputs": [],
   "source": [
    "# Will keep column type for this analysis.\n",
    "df.drop(columns=['nameOrig','nameDest'],axis=1,inplace=True)"
   ]
  },
  {
   "cell_type": "code",
   "execution_count": null,
   "id": "eb3e94e9b4cc67be",
   "metadata": {
    "ExecuteTime": {
     "end_time": "2024-05-10T14:15:15.294017Z",
     "start_time": "2024-05-10T14:15:10.243324Z"
    }
   },
   "outputs": [],
   "source": [
    "df['nameDest'].value_counts()"
   ]
  },
  {
   "cell_type": "code",
   "execution_count": null,
   "id": "a943d0e5d7a7123c",
   "metadata": {
    "ExecuteTime": {
     "end_time": "2024-05-10T14:14:58.991080Z",
     "start_time": "2024-05-10T14:14:54.912623Z"
    }
   },
   "outputs": [],
   "source": [
    "df['nameDest'].value_counts().sum()"
   ]
  },
  {
   "cell_type": "code",
   "execution_count": null,
   "id": "55b8bb63b32502ff",
   "metadata": {
    "ExecuteTime": {
     "end_time": "2024-04-30T14:56:51.202704Z",
     "start_time": "2024-04-30T14:56:50.449810Z"
    }
   },
   "outputs": [],
   "source": [
    "df = pd.get_dummies(df,drop_first=True)\n",
    "df.head()"
   ]
  },
  {
   "cell_type": "code",
   "execution_count": null,
   "id": "a9dee62ed29de4df",
   "metadata": {
    "ExecuteTime": {
     "end_time": "2024-04-30T14:56:53.987588Z",
     "start_time": "2024-04-30T14:56:51.204743Z"
    }
   },
   "outputs": [],
   "source": [
    "# get correlation\n",
    "df.corr(numeric_only=True)['isFraud'].sort_values(ascending=False)"
   ]
  },
  {
   "cell_type": "code",
   "execution_count": null,
   "id": "ca8d6d0934fcfb45",
   "metadata": {
    "ExecuteTime": {
     "end_time": "2024-04-30T14:56:54.227636Z",
     "start_time": "2024-04-30T14:56:53.988602Z"
    }
   },
   "outputs": [],
   "source": [
    "loans_df= df.drop('isFlaggedFraud',axis=1)\n",
    "\n",
    "X = loans_df.drop('isFraud',axis=1)\n",
    "y= loans_df['isFraud']"
   ]
  },
  {
   "cell_type": "code",
   "execution_count": null,
   "id": "1361bc5bdb39a83a",
   "metadata": {
    "ExecuteTime": {
     "end_time": "2024-04-30T14:56:54.286696Z",
     "start_time": "2024-04-30T14:56:54.229653Z"
    }
   },
   "outputs": [],
   "source": [
    "loans_df['isFraud'].value_counts()"
   ]
  },
  {
   "cell_type": "code",
   "execution_count": null,
   "id": "6cdd28329e8e5f97",
   "metadata": {
    "ExecuteTime": {
     "end_time": "2024-04-30T14:57:03.471567Z",
     "start_time": "2024-04-30T14:56:54.288712Z"
    }
   },
   "outputs": [],
   "source": [
    "sns.countplot(x='isFraud', data=loans_df)\n",
    "# Customize the plot\n",
    "plt.xlabel('Fraudulent')\n",
    "plt.ylabel('Count')\n",
    "plt.title('Count of Fraudulent vs. Non-Fraudulent Loans')\n",
    "plt.show()"
   ]
  },
  {
   "cell_type": "markdown",
   "id": "a6713020e38a87ef",
   "metadata": {},
   "source": [
    "Our data is clearly imbalanced, We have to find a way to make it balanced for analysis"
   ]
  },
  {
   "cell_type": "markdown",
   "id": "b9566a278ac73a62",
   "metadata": {},
   "source": [
    "### Perform Oversampling technique"
   ]
  },
  {
   "cell_type": "code",
   "execution_count": null,
   "id": "8077aff853dabb7f",
   "metadata": {
    "ExecuteTime": {
     "end_time": "2024-04-30T14:57:03.529203Z",
     "start_time": "2024-04-30T14:57:03.473578Z"
    }
   },
   "outputs": [],
   "source": [
    "# Before oversampling\n",
    "loans_df['isFraud'].value_counts()"
   ]
  },
  {
   "cell_type": "code",
   "execution_count": null,
   "id": "641b4b4200e97ab9",
   "metadata": {
    "ExecuteTime": {
     "end_time": "2024-04-30T14:57:12.625672Z",
     "start_time": "2024-04-30T14:57:03.530219Z"
    }
   },
   "outputs": [],
   "source": [
    "smote = SMOTE(random_state=42)\n",
    "\n",
    "X_resampled, y_resampled = smote.fit_resample(X,y)\n",
    "\n",
    "# Join the values\n",
    "oversampled_loans = pd.concat([pd.DataFrame(X_resampled, columns=X.columns), pd.DataFrame(y_resampled, columns=['isFraud'])], axis=1)\n",
    "\n"
   ]
  },
  {
   "cell_type": "code",
   "execution_count": null,
   "id": "1b54fdd960fb82fa",
   "metadata": {
    "ExecuteTime": {
     "end_time": "2024-04-30T14:57:12.768068Z",
     "start_time": "2024-04-30T14:57:12.630690Z"
    }
   },
   "outputs": [],
   "source": [
    "# Recheck after oversampling\n",
    "oversampled_loans['isFraud'].value_counts()"
   ]
  },
  {
   "cell_type": "markdown",
   "id": "3b4fc693c7bdb5db",
   "metadata": {},
   "source": [
    "### Perform Train test split"
   ]
  },
  {
   "cell_type": "code",
   "execution_count": null,
   "id": "6e135ddf98bcb1a7",
   "metadata": {
    "ExecuteTime": {
     "end_time": "2024-04-30T14:57:16.265587Z",
     "start_time": "2024-04-30T14:57:12.770084Z"
    }
   },
   "outputs": [],
   "source": [
    "X_train,X_test,y_train,y_test = train_test_split(X_resampled,y_resampled,test_size=0.2,random_state=42)"
   ]
  },
  {
   "cell_type": "code",
   "execution_count": null,
   "id": "542f3921678b590f",
   "metadata": {
    "ExecuteTime": {
     "end_time": "2024-04-30T14:57:16.270773Z",
     "start_time": "2024-04-30T14:57:16.267057Z"
    }
   },
   "outputs": [],
   "source": [
    "# Fitting and evaluating the model\n",
    "knn = KNeighborsClassifier(n_neighbors=3)\n",
    "#knn.fit(X_train,y_train)\n",
    "#y_pred = knn.predict(X_test)"
   ]
  },
  {
   "cell_type": "code",
   "execution_count": null,
   "id": "fe6a97f7c4f1539d",
   "metadata": {
    "ExecuteTime": {
     "end_time": "2024-04-30T14:57:16.281635Z",
     "start_time": "2024-04-30T14:57:16.272786Z"
    }
   },
   "outputs": [],
   "source": [
    "# Evaluate the model\n",
    "#train_accuracy = knn.score(X_train, y_train)\n",
    "#test_accuracy = knn.score(X_test, y_test)\n",
    "\n",
    "#print(\"Training Accuracy:\", train_accuracy)\n",
    "#print(\"Test Accuracy:\", test_accuracy)"
   ]
  },
  {
   "cell_type": "markdown",
   "id": "a1c0f448466198b2",
   "metadata": {},
   "source": [
    "I will continue with down sampling technique"
   ]
  },
  {
   "cell_type": "code",
   "execution_count": null,
   "id": "145bcea9f09f096f",
   "metadata": {
    "ExecuteTime": {
     "end_time": "2024-04-30T14:57:17.292114Z",
     "start_time": "2024-04-30T14:57:16.283651Z"
    }
   },
   "outputs": [],
   "source": [
    "majority_class = loans_df[loans_df['isFraud'] == 0]\n",
    "minority_class = loans_df[loans_df['isFraud'] == 1]\n",
    "\n",
    "# Downsample the majority class to match the minority class\n",
    "majority_downsampled = resample(majority_class, replace=False, n_samples=len(minority_class), random_state=42)\n",
    "\n",
    "downsampled_loans= pd.concat([majority_downsampled,minority_class])\n"
   ]
  },
  {
   "cell_type": "code",
   "execution_count": null,
   "id": "10de265ea9bc5a5",
   "metadata": {
    "ExecuteTime": {
     "end_time": "2024-04-30T14:57:17.299148Z",
     "start_time": "2024-04-30T14:57:17.293141Z"
    }
   },
   "outputs": [],
   "source": [
    "# check the shape\n",
    "print(f'Downsampled Loans: {downsampled_loans.shape}')\n",
    "print(f'Downsampled Loans Count: {downsampled_loans['isFraud'].value_counts()}')"
   ]
  },
  {
   "cell_type": "code",
   "execution_count": null,
   "id": "40b3141e5b139a54",
   "metadata": {
    "ExecuteTime": {
     "end_time": "2024-04-30T14:57:17.586377Z",
     "start_time": "2024-04-30T14:57:17.300165Z"
    }
   },
   "outputs": [],
   "source": [
    "# Split, train and predict\n",
    "X= downsampled_loans.drop('isFraud',axis=1)\n",
    "y = downsampled_loans['isFraud']\n",
    "\n",
    "X_train, X_test, y_train, y_test = train_test_split(X,y,test_size=0.2,random_state=42)\n",
    "\n",
    "knn = KNeighborsClassifier(n_neighbors=3)\n",
    "knn.fit(X_train,y_train)\n",
    "y_pred = knn.predict(X_test)"
   ]
  },
  {
   "cell_type": "code",
   "execution_count": null,
   "id": "4e92095b52fd097b",
   "metadata": {
    "ExecuteTime": {
     "end_time": "2024-04-30T14:57:18.358613Z",
     "start_time": "2024-04-30T14:57:17.588395Z"
    }
   },
   "outputs": [],
   "source": [
    "train_accuracy = knn.score(X_train, y_train)\n",
    "test_accuracy = knn.score(X_test, y_test)\n",
    "print(\"Training Accuracy:\", train_accuracy)\n",
    "print(\"Test Accuracy:\", test_accuracy)"
   ]
  },
  {
   "cell_type": "code",
   "execution_count": null,
   "id": "63e27adb823aaec8",
   "metadata": {
    "ExecuteTime": {
     "end_time": "2024-04-30T14:57:18.381450Z",
     "start_time": "2024-04-30T14:57:18.359625Z"
    }
   },
   "outputs": [],
   "source": [
    "\n",
    "f1 = f1_score(y_test,y_pred)\n",
    "cls_report = classification_report(y_test,y_pred)\n",
    "print(f'F1 Score: {f1}')\n",
    "\n",
    "print(f'Classification Report: {cls_report}')"
   ]
  },
  {
   "cell_type": "markdown",
   "id": "8ced43c9d43bab9c",
   "metadata": {},
   "source": [
    "## Hyperparameters Tuning"
   ]
  },
  {
   "cell_type": "code",
   "execution_count": null,
   "id": "59e63643c2b49fcd",
   "metadata": {
    "ExecuteTime": {
     "end_time": "2024-04-30T15:04:35.884556Z",
     "start_time": "2024-04-30T15:04:08.813187Z"
    }
   },
   "outputs": [],
   "source": [
    "parameters= {\n",
    "    'n_neighbors':range(1,11),\n",
    "    'weights':['uniform','distance'],\n",
    "    'metric':['minkowski','manhattan','euclidean']\n",
    "}\n",
    "grid = GridSearchCV(estimator=knn,param_grid=parameters,cv=5,scoring='accuracy')\n",
    "grid.fit(X_train,y_train)\n",
    "\n",
    "print(grid.best_params_)\n",
    "print(grid.best_score_)\n",
    "print(grid.best_estimator_)"
   ]
  },
  {
   "cell_type": "markdown",
   "id": "447b1f914820c998",
   "metadata": {},
   "source": [
    "dataset Link: https://www.kaggle.com/datasets/sriharshaeedala/financial-fraud-detection-dataset"
   ]
  }
 ],
 "metadata": {
  "kernelspec": {
   "display_name": "Python 3 (ipykernel)",
   "language": "python",
   "name": "python3"
  },
  "language_info": {
   "codemirror_mode": {
    "name": "ipython",
    "version": 3
   },
   "file_extension": ".py",
   "mimetype": "text/x-python",
   "name": "python",
   "nbconvert_exporter": "python",
   "pygments_lexer": "ipython3",
   "version": "3.12.0"
  }
 },
 "nbformat": 4,
 "nbformat_minor": 5
}
